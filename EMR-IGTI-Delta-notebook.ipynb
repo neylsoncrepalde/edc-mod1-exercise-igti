{
 "cells": [
  {
   "cell_type": "markdown",
   "metadata": {},
   "source": [
    "# Bootcamp Engenheiro de Dados Cloud - IGTI - Módulo 1\n",
    "\n",
    "## Prof. Dr. Neylson Crepalde\n",
    "\n",
    "### Caso de uso - Delta Lake\n",
    "\n",
    "Após realizar o processamento dos dados do ENEM 2020 e fazer a ingestão no lake no formato delta, vamos verificar o upsert realizado usando o time travel."
   ]
  },
  {
   "cell_type": "code",
   "execution_count": 1,
   "metadata": {},
   "outputs": [
    {
     "data": {
      "application/vnd.jupyter.widget-view+json": {
       "model_id": "8613f3dda2a04d84b96f1c9a69d9ded3",
       "version_major": 2,
       "version_minor": 0
      },
      "text/plain": [
       "VBox()"
      ]
     },
     "metadata": {},
     "output_type": "display_data"
    },
    {
     "name": "stdout",
     "output_type": "stream",
     "text": [
      "Starting Spark application\n"
     ]
    },
    {
     "data": {
      "text/html": [
       "<table>\n",
       "<tr><th>ID</th><th>YARN Application ID</th><th>Kind</th><th>State</th><th>Spark UI</th><th>Driver log</th><th>Current session?</th></tr><tr><td>0</td><td>application_1627358691848_0006</td><td>pyspark</td><td>idle</td><td><a target=\"_blank\" href=\"http://ip-172-31-24-139.us-east-2.compute.internal:20888/proxy/application_1627358691848_0006/\" class=\"emr-proxy-link\" emr-resource=\"j-7IU9YWREAG5R\n",
       "\" application-id=\"application_1627358691848_0006\">Link</a></td><td><a target=\"_blank\" href=\"http://ip-172-31-25-81.us-east-2.compute.internal:8042/node/containerlogs/container_1627358691848_0006_01_000001/livy\" >Link</a></td><td>✔</td></tr></table>"
      ],
      "text/plain": [
       "<IPython.core.display.HTML object>"
      ]
     },
     "metadata": {},
     "output_type": "display_data"
    },
    {
     "data": {
      "application/vnd.jupyter.widget-view+json": {
       "model_id": "",
       "version_major": 2,
       "version_minor": 0
      },
      "text/plain": [
       "FloatProgress(value=0.0, bar_style='info', description='Progress:', layout=Layout(height='25px', width='50%'),…"
      ]
     },
     "metadata": {},
     "output_type": "display_data"
    },
    {
     "name": "stdout",
     "output_type": "stream",
     "text": [
      "SparkSession available as 'spark'.\n"
     ]
    },
    {
     "data": {
      "application/vnd.jupyter.widget-view+json": {
       "model_id": "",
       "version_major": 2,
       "version_minor": 0
      },
      "text/plain": [
       "FloatProgress(value=0.0, bar_style='info', description='Progress:', layout=Layout(height='25px', width='50%'),…"
      ]
     },
     "metadata": {},
     "output_type": "display_data"
    }
   ],
   "source": [
    "import pyspark"
   ]
  },
  {
   "cell_type": "code",
   "execution_count": 3,
   "metadata": {},
   "outputs": [
    {
     "name": "stdout",
     "output_type": "stream",
     "text": [
      "Starting Spark application\n"
     ]
    },
    {
     "data": {
      "text/html": [
       "<table>\n",
       "<tr><th>ID</th><th>YARN Application ID</th><th>Kind</th><th>State</th><th>Spark UI</th><th>Driver log</th><th>Current session?</th></tr><tr><td>1</td><td>application_1627358691848_0007</td><td>pyspark</td><td>idle</td><td><a target=\"_blank\" href=\"http://ip-172-31-24-139.us-east-2.compute.internal:20888/proxy/application_1627358691848_0007/\" class=\"emr-proxy-link\" emr-resource=\"j-7IU9YWREAG5R\n",
       "\" application-id=\"application_1627358691848_0007\">Link</a></td><td><a target=\"_blank\" href=\"http://ip-172-31-25-81.us-east-2.compute.internal:8042/node/containerlogs/container_1627358691848_0007_01_000001/livy\" >Link</a></td><td>✔</td></tr></table>"
      ],
      "text/plain": [
       "<IPython.core.display.HTML object>"
      ]
     },
     "metadata": {},
     "output_type": "display_data"
    },
    {
     "data": {
      "application/vnd.jupyter.widget-view+json": {
       "model_id": "",
       "version_major": 2,
       "version_minor": 0
      },
      "text/plain": [
       "FloatProgress(value=0.0, bar_style='info', description='Progress:', layout=Layout(height='25px', width='50%'),…"
      ]
     },
     "metadata": {},
     "output_type": "display_data"
    },
    {
     "name": "stdout",
     "output_type": "stream",
     "text": [
      "SparkSession available as 'spark'.\n"
     ]
    },
    {
     "data": {
      "text/html": [
       "Current session configs: <tt>{'conf': {'spark.jars.packages': 'io.delta:delta-core_2.12:1.0.0', 'spark.sql.extensions': 'io.delta.sql.DeltaSparkSessionExtension', 'spark.sql.catalog.spark_catalog': 'org.apache.spark.sql.delta.catalog.DeltaCatalog'}, 'proxyUser': 'user_neylson_crepalde', 'kind': 'pyspark'}</tt><br>"
      ],
      "text/plain": [
       "<IPython.core.display.HTML object>"
      ]
     },
     "metadata": {},
     "output_type": "display_data"
    },
    {
     "data": {
      "text/html": [
       "<table>\n",
       "<tr><th>ID</th><th>YARN Application ID</th><th>Kind</th><th>State</th><th>Spark UI</th><th>Driver log</th><th>Current session?</th></tr><tr><td>1</td><td>application_1627358691848_0007</td><td>pyspark</td><td>idle</td><td><a target=\"_blank\" href=\"http://ip-172-31-24-139.us-east-2.compute.internal:20888/proxy/application_1627358691848_0007/\" class=\"emr-proxy-link\" emr-resource=\"j-7IU9YWREAG5R\n",
       "\" application-id=\"application_1627358691848_0007\">Link</a></td><td><a target=\"_blank\" href=\"http://ip-172-31-25-81.us-east-2.compute.internal:8042/node/containerlogs/container_1627358691848_0007_01_000001/livy\" >Link</a></td><td>✔</td></tr></table>"
      ],
      "text/plain": [
       "<IPython.core.display.HTML object>"
      ]
     },
     "metadata": {},
     "output_type": "display_data"
    }
   ],
   "source": [
    "%%configure -f\n",
    "{\n",
    "    \"conf\": {\n",
    "        \"spark.jars.packages\": \"io.delta:delta-core_2.12:1.0.0\", \n",
    "        \"spark.sql.extensions\": \"io.delta.sql.DeltaSparkSessionExtension\", \n",
    "        \"spark.sql.catalog.spark_catalog\": \"org.apache.spark.sql.delta.catalog.DeltaCatalog\"\n",
    "    }\n",
    "}"
   ]
  },
  {
   "cell_type": "code",
   "execution_count": 4,
   "metadata": {},
   "outputs": [
    {
     "data": {
      "application/vnd.jupyter.widget-view+json": {
       "model_id": "6a2a789690894b1dbd0196fa7103d3c3",
       "version_major": 2,
       "version_minor": 0
      },
      "text/plain": [
       "VBox()"
      ]
     },
     "metadata": {},
     "output_type": "display_data"
    },
    {
     "data": {
      "application/vnd.jupyter.widget-view+json": {
       "model_id": "",
       "version_major": 2,
       "version_minor": 0
      },
      "text/plain": [
       "FloatProgress(value=0.0, bar_style='info', description='Progress:', layout=Layout(height='25px', width='50%'),…"
      ]
     },
     "metadata": {},
     "output_type": "display_data"
    }
   ],
   "source": [
    "inscricoes = [190001595656,190001421546,190001133210,190001199383,190001237802,\n",
    "    190001782198,190001421548,190001595657,190001592264,190001592266,190001592265,190001475147,190001867756,190001133211,\n",
    "    190001237803,190001493186,190001421547,190001493187,190001210202,190001421549,190001595658,190002037437,190001421550,\n",
    "    190001595659,190001421551,190001237804,190001867757,190001184600,190001692704,190001867758,190002037438,190001595660,\n",
    "    190001237805,190001705260,190001421552,190001867759,190001595661,190001042834,190001237806,190001595662,190001421553,\n",
    "    190001475148,190001421554,190001493188,190002037439,190001421555,190001480442,190001493189,190001705261,190001421556]"
   ]
  },
  {
   "cell_type": "code",
   "execution_count": 5,
   "metadata": {},
   "outputs": [
    {
     "data": {
      "application/vnd.jupyter.widget-view+json": {
       "model_id": "6ae249bb706546698cb1b5cdc6d143f3",
       "version_major": 2,
       "version_minor": 0
      },
      "text/plain": [
       "VBox()"
      ]
     },
     "metadata": {},
     "output_type": "display_data"
    },
    {
     "data": {
      "application/vnd.jupyter.widget-view+json": {
       "model_id": "",
       "version_major": 2,
       "version_minor": 0
      },
      "text/plain": [
       "FloatProgress(value=0.0, bar_style='info', description='Progress:', layout=Layout(height='25px', width='50%'),…"
      ]
     },
     "metadata": {},
     "output_type": "display_data"
    }
   ],
   "source": [
    "from delta.tables import *"
   ]
  },
  {
   "cell_type": "code",
   "execution_count": 6,
   "metadata": {},
   "outputs": [
    {
     "data": {
      "application/vnd.jupyter.widget-view+json": {
       "model_id": "008eadb413934797bffabdcda769ec80",
       "version_major": 2,
       "version_minor": 0
      },
      "text/plain": [
       "VBox()"
      ]
     },
     "metadata": {},
     "output_type": "display_data"
    },
    {
     "data": {
      "application/vnd.jupyter.widget-view+json": {
       "model_id": "",
       "version_major": 2,
       "version_minor": 0
      },
      "text/plain": [
       "FloatProgress(value=0.0, bar_style='info', description='Progress:', layout=Layout(height='25px', width='50%'),…"
      ]
     },
     "metadata": {},
     "output_type": "display_data"
    }
   ],
   "source": [
    "df_last = (\n",
    "    spark\n",
    "    .read\n",
    "    .format(\"delta\")\n",
    "    .load(\"s3://datalake-hrpp-igti-edc-tf/staging-zone/enem/\")\n",
    ")"
   ]
  },
  {
   "cell_type": "code",
   "execution_count": 12,
   "metadata": {},
   "outputs": [
    {
     "data": {
      "application/vnd.jupyter.widget-view+json": {
       "model_id": "8649f38ef5d54143a56627ac758bbd32",
       "version_major": 2,
       "version_minor": 0
      },
      "text/plain": [
       "VBox()"
      ]
     },
     "metadata": {},
     "output_type": "display_data"
    },
    {
     "data": {
      "application/vnd.jupyter.widget-view+json": {
       "model_id": "",
       "version_major": 2,
       "version_minor": 0
      },
      "text/plain": [
       "FloatProgress(value=0.0, bar_style='info', description='Progress:', layout=Layout(height='25px', width='50%'),…"
      ]
     },
     "metadata": {},
     "output_type": "display_data"
    },
    {
     "name": "stdout",
     "output_type": "stream",
     "text": [
      "+------------+-----------------------+\n",
      "|NU_INSCRICAO|CO_MUNICIPIO_RESIDENCIA|\n",
      "+------------+-----------------------+\n",
      "|190001042834|               10000000|\n",
      "|190001133210|               10000000|\n",
      "|190001133211|               10000000|\n",
      "|190001184600|               10000000|\n",
      "|190001199383|               10000000|\n",
      "|190001210202|               10000000|\n",
      "|190001237802|               10000000|\n",
      "|190001237803|               10000000|\n",
      "|190001237804|               10000000|\n",
      "|190001237805|               10000000|\n",
      "|190001237806|               10000000|\n",
      "|190001421546|               10000000|\n",
      "|190001421547|               10000000|\n",
      "|190001421548|               10000000|\n",
      "|190001421549|               10000000|\n",
      "|190001421550|               10000000|\n",
      "|190001421551|               10000000|\n",
      "|190001421552|               10000000|\n",
      "|190001421553|               10000000|\n",
      "|190001421554|               10000000|\n",
      "+------------+-----------------------+\n",
      "only showing top 20 rows"
     ]
    }
   ],
   "source": [
    "(\n",
    "    df_last\n",
    "    .where(df_last.NU_INSCRICAO.isin(inscricoes))\n",
    "    .select(\"NU_INSCRICAO\", \"CO_MUNICIPIO_RESIDENCIA\")\n",
    "    .orderBy(\"NU_INSCRICAO\")\n",
    "    .show()\n",
    ")"
   ]
  },
  {
   "cell_type": "markdown",
   "metadata": {},
   "source": [
    "### Time Travel\n",
    "\n",
    "Lendo a tabela antiga usando o *time travel* do delta."
   ]
  },
  {
   "cell_type": "code",
   "execution_count": 10,
   "metadata": {},
   "outputs": [
    {
     "data": {
      "application/vnd.jupyter.widget-view+json": {
       "model_id": "0b31c842e33d486998e62278bcda1489",
       "version_major": 2,
       "version_minor": 0
      },
      "text/plain": [
       "VBox()"
      ]
     },
     "metadata": {},
     "output_type": "display_data"
    },
    {
     "data": {
      "application/vnd.jupyter.widget-view+json": {
       "model_id": "",
       "version_major": 2,
       "version_minor": 0
      },
      "text/plain": [
       "FloatProgress(value=0.0, bar_style='info', description='Progress:', layout=Layout(height='25px', width='50%'),…"
      ]
     },
     "metadata": {},
     "output_type": "display_data"
    }
   ],
   "source": [
    "df_anterior = (\n",
    "    spark\n",
    "    .read\n",
    "    .format(\"delta\")\n",
    "    .option(\"versionAsOf\", \"0\")\n",
    "    .load(\"s3://datalake-hrpp-igti-edc-tf/staging-zone/enem/\")\n",
    ")"
   ]
  },
  {
   "cell_type": "code",
   "execution_count": 13,
   "metadata": {},
   "outputs": [
    {
     "data": {
      "application/vnd.jupyter.widget-view+json": {
       "model_id": "43bf70eb8d8941178aaa3e6f07471669",
       "version_major": 2,
       "version_minor": 0
      },
      "text/plain": [
       "VBox()"
      ]
     },
     "metadata": {},
     "output_type": "display_data"
    },
    {
     "data": {
      "application/vnd.jupyter.widget-view+json": {
       "model_id": "",
       "version_major": 2,
       "version_minor": 0
      },
      "text/plain": [
       "FloatProgress(value=0.0, bar_style='info', description='Progress:', layout=Layout(height='25px', width='50%'),…"
      ]
     },
     "metadata": {},
     "output_type": "display_data"
    },
    {
     "name": "stdout",
     "output_type": "stream",
     "text": [
      "+------------+-----------------------+\n",
      "|NU_INSCRICAO|CO_MUNICIPIO_RESIDENCIA|\n",
      "+------------+-----------------------+\n",
      "|190001042834|                1501402|\n",
      "|190001133210|                2304400|\n",
      "|190001133211|                2304400|\n",
      "|190001184600|                1600303|\n",
      "|190001199383|                1721000|\n",
      "|190001210202|                2105401|\n",
      "|190001237802|                3118601|\n",
      "|190001237803|                3170206|\n",
      "|190001237804|                3124104|\n",
      "|190001237805|                3118304|\n",
      "|190001237806|                3162922|\n",
      "|190001421546|                2910800|\n",
      "|190001421547|                2911709|\n",
      "|190001421548|                2924009|\n",
      "|190001421549|                2927408|\n",
      "|190001421550|                2927408|\n",
      "|190001421551|                2917508|\n",
      "|190001421552|                2919207|\n",
      "|190001421553|                2927408|\n",
      "|190001421554|                2927408|\n",
      "+------------+-----------------------+\n",
      "only showing top 20 rows"
     ]
    }
   ],
   "source": [
    "(\n",
    "    df_anterior\n",
    "    .where(df_anterior.NU_INSCRICAO.isin(inscricoes))\n",
    "    .select(\"NU_INSCRICAO\", \"CO_MUNICIPIO_RESIDENCIA\")\n",
    "    .orderBy(\"NU_INSCRICAO\")\n",
    "    .show()\n",
    ")"
   ]
  },
  {
   "cell_type": "code",
   "execution_count": null,
   "metadata": {},
   "outputs": [],
   "source": [
    "spark.stop()"
   ]
  }
 ],
 "metadata": {
  "kernelspec": {
   "display_name": "PySpark",
   "language": "",
   "name": "pysparkkernel"
  },
  "language_info": {
   "codemirror_mode": {
    "name": "python",
    "version": 3
   },
   "mimetype": "text/x-python",
   "name": "pyspark",
   "pygments_lexer": "python3"
  }
 },
 "nbformat": 4,
 "nbformat_minor": 5
}
